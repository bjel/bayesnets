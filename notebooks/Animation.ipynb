{
 "cells": [
  {
   "cell_type": "code",
   "execution_count": null,
   "metadata": {},
   "outputs": [],
   "source": []
  },
  {
   "cell_type": "code",
   "execution_count": null,
   "metadata": {},
   "outputs": [],
   "source": []
  },
  {
   "cell_type": "code",
   "execution_count": 26,
   "metadata": {},
   "outputs": [],
   "source": [
    "import torch\n",
    "from torch import nn, optim\n",
    "import numpy as np\n",
    "import pandas as pd\n",
    "from matplotlib import pyplot as plt\n",
    "def make_net(hidden_depth, width):\n",
    "    assert hidden_depth >= 1\n",
    "    yield nn.Linear(1, width)\n",
    "    yield nn.ReLU()\n",
    "    for i in range(hidden_depth-1):\n",
    "        yield nn.Linear(width, width)\n",
    "        yield nn.ReLU()\n",
    "    yield nn.Linear(width, 1)\n"
   ]
  },
  {
   "cell_type": "code",
   "execution_count": 18,
   "metadata": {},
   "outputs": [],
   "source": [
    "loss = np.ones(10)"
   ]
  },
  {
   "cell_type": "code",
   "execution_count": 19,
   "metadata": {},
   "outputs": [
    {
     "data": {
      "text/plain": [
       "False"
      ]
     },
     "execution_count": 19,
     "metadata": {},
     "output_type": "execute_result"
    }
   ],
   "source": [
    "np.any(np.isnan(loss))"
   ]
  },
  {
   "cell_type": "code",
   "execution_count": 20,
   "metadata": {},
   "outputs": [],
   "source": [
    "xr = (-2, 5)\n",
    "xsize = (xr[1] - xr[0]) * 10 + 1\n",
    "\n",
    "# xsize = (xr[1] - xr[0]) * 10 + 1\n",
    "xt = torch.linspace(*xr, xsize).unsqueeze(-1)\n",
    "yt = torch.exp(xt)\n",
    "xd = xt.detach()\n",
    "yd = yt.detach()\n",
    "STR_NAME = f\"exp:{xr[0]}:{xr[1]}\"\n",
    "def get_pred(hidden, width, nepoch=200, lr=0.002, momentum=0.9, debug=False):\n",
    "    net = nn.Sequential(*make_net(hidden, width))\n",
    "    lossfunc = nn.MSELoss()\n",
    "    optimizer = optim.SGD(net.parameters(), lr=lr, momentum=momentum)\n",
    "    data_out = torch.zeros(nepoch, xt.shape[0])\n",
    "    loss_t = torch.zeros(nepoch)\n",
    "\n",
    "    og_loss = lossfunc(net(xt), yt)\n",
    "    for epoch in range(nepoch):\n",
    "        optimizer.zero_grad()\n",
    "        ypred = net(xt)\n",
    "        \n",
    "        \n",
    "        loss = lossfunc(ypred, yt)\n",
    "\n",
    "        \n",
    "        if debug: print(epoch, loss)\n",
    "        \n",
    "        loss_t[epoch] = loss.item()\n",
    "        data_out[epoch, :] = ypred.squeeze()\n",
    "        \n",
    "        loss.backward()\n",
    "        optimizer.step()\n",
    "    if debug: print(f\"First loss {og_loss} v final {loss}\")\n",
    "    return data_out.detach(), loss_t.detach()"
   ]
  },
  {
   "cell_type": "code",
   "execution_count": 21,
   "metadata": {},
   "outputs": [
    {
     "data": {
      "text/plain": [
       "5.0"
      ]
     },
     "execution_count": 21,
     "metadata": {},
     "output_type": "execute_result"
    }
   ],
   "source": [
    "round(xt.max().item(), 2)"
   ]
  },
  {
   "cell_type": "code",
   "execution_count": 12,
   "metadata": {},
   "outputs": [],
   "source": [
    "h, w = 2,5\n",
    "nepoch = 200\n",
    "data_np = [get_pred(h,w, nepoch)[0].numpy() for i in range(50)]"
   ]
  },
  {
   "cell_type": "code",
   "execution_count": 13,
   "metadata": {},
   "outputs": [
    {
     "data": {
      "text/plain": [
       "array([[ 0.25278017,  0.24895099,  0.24512184, ..., -0.3529262 ,\n",
       "        -0.36501575, -0.3771053 ],\n",
       "       [ 0.344922  ,  0.34108284,  0.33724368, ...,  0.14829408,\n",
       "         0.14497976,  0.14166556],\n",
       "       [ 0.5292239 ,  0.5251156 ,  0.5210073 , ...,  0.71337706,\n",
       "         0.7215554 ,  0.7297338 ],\n",
       "       ...,\n",
       "       [21.946367  , 21.946367  , 21.946367  , ..., 21.946367  ,\n",
       "        21.946367  , 21.946367  ],\n",
       "       [21.946442  , 21.946442  , 21.946442  , ..., 21.946442  ,\n",
       "        21.946442  , 21.946442  ],\n",
       "       [21.946514  , 21.946514  , 21.946514  , ..., 21.946514  ,\n",
       "        21.946514  , 21.946514  ]], dtype=float32)"
      ]
     },
     "execution_count": 13,
     "metadata": {},
     "output_type": "execute_result"
    }
   ],
   "source": [
    "data_np[0]"
   ]
  },
  {
   "cell_type": "code",
   "execution_count": 23,
   "metadata": {},
   "outputs": [],
   "source": [
    "df = pd.DataFrame(data_np[30])"
   ]
  },
  {
   "cell_type": "code",
   "execution_count": 24,
   "metadata": {},
   "outputs": [
    {
     "data": {
      "text/html": [
       "<div>\n",
       "<style scoped>\n",
       "    .dataframe tbody tr th:only-of-type {\n",
       "        vertical-align: middle;\n",
       "    }\n",
       "\n",
       "    .dataframe tbody tr th {\n",
       "        vertical-align: top;\n",
       "    }\n",
       "\n",
       "    .dataframe thead th {\n",
       "        text-align: right;\n",
       "    }\n",
       "</style>\n",
       "<table border=\"1\" class=\"dataframe\">\n",
       "  <thead>\n",
       "    <tr style=\"text-align: right;\">\n",
       "      <th></th>\n",
       "      <th>0</th>\n",
       "      <th>1</th>\n",
       "      <th>2</th>\n",
       "      <th>3</th>\n",
       "      <th>4</th>\n",
       "      <th>5</th>\n",
       "      <th>6</th>\n",
       "      <th>7</th>\n",
       "      <th>8</th>\n",
       "      <th>9</th>\n",
       "      <th>...</th>\n",
       "      <th>61</th>\n",
       "      <th>62</th>\n",
       "      <th>63</th>\n",
       "      <th>64</th>\n",
       "      <th>65</th>\n",
       "      <th>66</th>\n",
       "      <th>67</th>\n",
       "      <th>68</th>\n",
       "      <th>69</th>\n",
       "      <th>70</th>\n",
       "    </tr>\n",
       "  </thead>\n",
       "  <tbody>\n",
       "    <tr>\n",
       "      <th>0</th>\n",
       "      <td>-0.150518</td>\n",
       "      <td>-0.146830</td>\n",
       "      <td>-0.143143</td>\n",
       "      <td>-0.139456</td>\n",
       "      <td>-0.135769</td>\n",
       "      <td>-0.132082</td>\n",
       "      <td>-0.128395</td>\n",
       "      <td>-0.124707</td>\n",
       "      <td>-0.121020</td>\n",
       "      <td>-0.117333</td>\n",
       "      <td>...</td>\n",
       "      <td>-0.080606</td>\n",
       "      <td>-0.082697</td>\n",
       "      <td>-0.084788</td>\n",
       "      <td>-0.086879</td>\n",
       "      <td>-0.088970</td>\n",
       "      <td>-0.091061</td>\n",
       "      <td>-0.093152</td>\n",
       "      <td>-0.095243</td>\n",
       "      <td>-0.097333</td>\n",
       "      <td>-0.099424</td>\n",
       "    </tr>\n",
       "    <tr>\n",
       "      <th>1</th>\n",
       "      <td>-0.028314</td>\n",
       "      <td>-0.024463</td>\n",
       "      <td>-0.020611</td>\n",
       "      <td>-0.016760</td>\n",
       "      <td>-0.012908</td>\n",
       "      <td>-0.009057</td>\n",
       "      <td>-0.005205</td>\n",
       "      <td>-0.001353</td>\n",
       "      <td>0.002498</td>\n",
       "      <td>0.006350</td>\n",
       "      <td>...</td>\n",
       "      <td>0.221273</td>\n",
       "      <td>0.224105</td>\n",
       "      <td>0.226937</td>\n",
       "      <td>0.229769</td>\n",
       "      <td>0.232601</td>\n",
       "      <td>0.235433</td>\n",
       "      <td>0.238265</td>\n",
       "      <td>0.241096</td>\n",
       "      <td>0.243928</td>\n",
       "      <td>0.246760</td>\n",
       "    </tr>\n",
       "    <tr>\n",
       "      <th>2</th>\n",
       "      <td>0.182819</td>\n",
       "      <td>0.186935</td>\n",
       "      <td>0.191051</td>\n",
       "      <td>0.195166</td>\n",
       "      <td>0.199282</td>\n",
       "      <td>0.203398</td>\n",
       "      <td>0.207513</td>\n",
       "      <td>0.211629</td>\n",
       "      <td>0.215744</td>\n",
       "      <td>0.219860</td>\n",
       "      <td>...</td>\n",
       "      <td>0.732505</td>\n",
       "      <td>0.743490</td>\n",
       "      <td>0.754475</td>\n",
       "      <td>0.765461</td>\n",
       "      <td>0.776446</td>\n",
       "      <td>0.787431</td>\n",
       "      <td>0.798417</td>\n",
       "      <td>0.809402</td>\n",
       "      <td>0.820387</td>\n",
       "      <td>0.831373</td>\n",
       "    </tr>\n",
       "    <tr>\n",
       "      <th>3</th>\n",
       "      <td>0.453710</td>\n",
       "      <td>0.455469</td>\n",
       "      <td>0.459852</td>\n",
       "      <td>0.464235</td>\n",
       "      <td>0.468618</td>\n",
       "      <td>0.473001</td>\n",
       "      <td>0.477384</td>\n",
       "      <td>0.481766</td>\n",
       "      <td>0.486149</td>\n",
       "      <td>0.490532</td>\n",
       "      <td>...</td>\n",
       "      <td>1.565957</td>\n",
       "      <td>1.591109</td>\n",
       "      <td>1.616260</td>\n",
       "      <td>1.641412</td>\n",
       "      <td>1.666563</td>\n",
       "      <td>1.691715</td>\n",
       "      <td>1.716866</td>\n",
       "      <td>1.742018</td>\n",
       "      <td>1.767169</td>\n",
       "      <td>1.792321</td>\n",
       "    </tr>\n",
       "    <tr>\n",
       "      <th>4</th>\n",
       "      <td>0.851718</td>\n",
       "      <td>0.846865</td>\n",
       "      <td>0.842012</td>\n",
       "      <td>0.837159</td>\n",
       "      <td>0.832307</td>\n",
       "      <td>0.827454</td>\n",
       "      <td>0.822601</td>\n",
       "      <td>0.817748</td>\n",
       "      <td>0.812896</td>\n",
       "      <td>0.808043</td>\n",
       "      <td>...</td>\n",
       "      <td>3.832177</td>\n",
       "      <td>3.904046</td>\n",
       "      <td>3.975913</td>\n",
       "      <td>4.047781</td>\n",
       "      <td>4.119648</td>\n",
       "      <td>4.191516</td>\n",
       "      <td>4.263384</td>\n",
       "      <td>4.335252</td>\n",
       "      <td>4.407120</td>\n",
       "      <td>4.478987</td>\n",
       "    </tr>\n",
       "  </tbody>\n",
       "</table>\n",
       "<p>5 rows × 71 columns</p>\n",
       "</div>"
      ],
      "text/plain": [
       "         0         1         2         3         4         5         6   \\\n",
       "0 -0.150518 -0.146830 -0.143143 -0.139456 -0.135769 -0.132082 -0.128395   \n",
       "1 -0.028314 -0.024463 -0.020611 -0.016760 -0.012908 -0.009057 -0.005205   \n",
       "2  0.182819  0.186935  0.191051  0.195166  0.199282  0.203398  0.207513   \n",
       "3  0.453710  0.455469  0.459852  0.464235  0.468618  0.473001  0.477384   \n",
       "4  0.851718  0.846865  0.842012  0.837159  0.832307  0.827454  0.822601   \n",
       "\n",
       "         7         8         9   ...        61        62        63        64  \\\n",
       "0 -0.124707 -0.121020 -0.117333  ... -0.080606 -0.082697 -0.084788 -0.086879   \n",
       "1 -0.001353  0.002498  0.006350  ...  0.221273  0.224105  0.226937  0.229769   \n",
       "2  0.211629  0.215744  0.219860  ...  0.732505  0.743490  0.754475  0.765461   \n",
       "3  0.481766  0.486149  0.490532  ...  1.565957  1.591109  1.616260  1.641412   \n",
       "4  0.817748  0.812896  0.808043  ...  3.832177  3.904046  3.975913  4.047781   \n",
       "\n",
       "         65        66        67        68        69        70  \n",
       "0 -0.088970 -0.091061 -0.093152 -0.095243 -0.097333 -0.099424  \n",
       "1  0.232601  0.235433  0.238265  0.241096  0.243928  0.246760  \n",
       "2  0.776446  0.787431  0.798417  0.809402  0.820387  0.831373  \n",
       "3  1.666563  1.691715  1.716866  1.742018  1.767169  1.792321  \n",
       "4  4.119648  4.191516  4.263384  4.335252  4.407120  4.478987  \n",
       "\n",
       "[5 rows x 71 columns]"
      ]
     },
     "execution_count": 24,
     "metadata": {},
     "output_type": "execute_result"
    }
   ],
   "source": [
    "df.head()"
   ]
  },
  {
   "cell_type": "code",
   "execution_count": null,
   "metadata": {},
   "outputs": [],
   "source": [
    "import numpy as np\n",
    "import seaborn as sns\n",
    "sns.set()\n",
    "\n",
    "plt.rcParams[\"figure.figsize\"] = (14.0, 7.0)\n",
    "from matplotlib import pyplot as plt\n",
    "from matplotlib import animation\n",
    "\n",
    "# First set up the figure, the axis, and the plot element we want to animate\n",
    "fig = plt.figure()\n",
    "\n",
    "ax = plt.axes()\n",
    "plt.title(f\"Approxmiated exp with {h} Hidden of {w} Width\")\n",
    "ax.plot(xd, yd, \".\")\n",
    "line_ref = []\n",
    "for i in range(len(data)):\n",
    "    line, = ax.plot([], [], lw=2)\n",
    "    line_ref.append(line)\n",
    "\n",
    "    \n",
    "\n",
    "# initialization function: plot the background of each frame\n",
    "def init():\n",
    "    for line in line_ref:\n",
    "        line.set_data([], [])\n",
    "    return line_ref\n",
    "\n",
    "\n",
    "# animation function.  This is called sequentially\n",
    "def animate(i):\n",
    "#     print(i)\n",
    "    for dnum, line in enumerate(line_ref):\n",
    "        line.set_data(xd, data_np[dnum][i])\n",
    "    return line_ref\n",
    "\n",
    "# call the animator.  blit=True means only re-draw the parts that have changed.\n",
    "anim = animation.FuncAnimation(fig, animate, init_func=init,\n",
    "                               frames=nepoch, interval=20, blit=True);\n",
    "\n",
    "anim.save(f'training{h}h{w}w e:{nepoch} {STR_NAME}.mp4',  fps=30, extra_args=['-vcodec', 'libx264'])\n",
    "print(\"And Done\")"
   ]
  },
  {
   "cell_type": "code",
   "execution_count": null,
   "metadata": {},
   "outputs": [],
   "source": []
  },
  {
   "cell_type": "code",
   "execution_count": null,
   "metadata": {},
   "outputs": [],
   "source": []
  }
 ],
 "metadata": {
  "kernelspec": {
   "display_name": "Python 3",
   "language": "python",
   "name": "python3"
  },
  "language_info": {
   "codemirror_mode": {
    "name": "ipython",
    "version": 3
   },
   "file_extension": ".py",
   "mimetype": "text/x-python",
   "name": "python",
   "nbconvert_exporter": "python",
   "pygments_lexer": "ipython3",
   "version": "3.7.3"
  }
 },
 "nbformat": 4,
 "nbformat_minor": 4
}
